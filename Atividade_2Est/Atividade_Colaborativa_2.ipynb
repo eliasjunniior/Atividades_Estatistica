{
  "cells": [
    {
      "cell_type": "markdown",
      "metadata": {
        "id": "cKQprZxvHwI0"
      },
      "source": [
        "# Análise descritiva"
      ]
    },
    {
      "cell_type": "code",
      "execution_count": 8,
      "metadata": {
        "id": "N7uEe8_iHsO6"
      },
      "outputs": [],
      "source": [
        "import pandas as pd\n",
        "import seaborn as sns\n",
        "import matplotlib.pyplot as plt\n",
        "from scipy.stats import ttest_ind\n",
        "\n",
        "# Selecão dos dados\n",
        "entrada = '/content/base alunos.xlsx'\n",
        "data = pd.read_excel(entrada)\n",
        "\n",
        "# Criação do DataFrame\n",
        "df = pd.DataFrame(data)"
      ]
    },
    {
      "cell_type": "markdown",
      "metadata": {
        "id": "dpx6pdvOIQWm"
      },
      "source": [
        "# Criação da Estatística Descritiva\n",
        "* Os dados foram organizados por Tipo de Escola;\n",
        "* Para cada Tipo de Escola TipoEsc, as notas de teste Nota_Teste foram analisadas usando técnicas de estatística descritiva;\n",
        ")\n",
        "*As estatísticas calculadas para cada Tipo de Escola foram: média, desvio padrão, valor mínimo, valor máximo e mediana das notas de teste.*"
      ]
    },
    {
      "cell_type": "code",
      "execution_count": 9,
      "metadata": {
        "colab": {
          "base_uri": "https://localhost:8080/"
        },
        "id": "fg6KFR1sJQ24",
        "outputId": "ba1d087a-5085-49de-c363-4230c2af6475"
      },
      "outputs": [
        {
          "name": "stdout",
          "output_type": "stream",
          "text": [
            "Estatísticas Descritivas:\n",
            "             mean       std  min   max  median\n",
            "TipoEsc                                       \n",
            "priv     7.781250  1.361554  3.0  10.0     8.0\n",
            "pub      4.694444  2.314525  1.5   9.0     4.5\n"
          ]
        }
      ],
      "source": [
        "stats = df.groupby('TipoEsc')['Nota_Teste'].agg(['mean', 'std', 'min', 'max', 'median'])\n",
        "print(\"Estatísticas Descritivas:\")\n",
        "print(stats)"
      ]
    },
    {
      "cell_type": "markdown",
      "metadata": {
        "id": "IMBMWWY4LGtc"
      },
      "source": [
        "# Demonstração de distribuição das notas por meio do Box Plot.\n",
        "## Notas de Escolas Privadas (priv)\n",
        "\n",
        "* Média e Mediana: A mediana (linha dentro da caixa) das respectivas notas de escolas privadas é identificada como mais alta em comparação com as escolas públicas. A mediana estar em torno de 8, conforme descrito.\n",
        "\n",
        "* Dispersão: A caixa (que representa o intervalo interquartil) consideramos que é relativamente estreita, indicando que as notas são mais concentradas em torno da mediana. Isso sugere uma menor variabilidade nas notas.\n",
        "\n",
        "* Outliers: Como demonstrado há um outlier abaixo da caixa (circulado), indicando que existe pelo menos um aluno com uma nota significativamente mais baixa em comparação com os demais.\n",
        "\n",
        "## Notas de Escolas Públicas (pub)\n",
        "* Média e Mediana: Como vemos a mediana das notas de escolas públicas é mais baixa do que a das escolas privadas, isso vemos em torno de 5.\n",
        "\n",
        "* Dispersão: No tocante a ela, a caixa é mais larga, indicando maior variabilidade nas notas. Sugerindo que há uma maior diferença entre as notas altas e baixas entre os alunos das escolas públicas.\n"
      ]
    },
    {
      "cell_type": "code",
      "execution_count": 10,
      "metadata": {
        "colab": {
          "base_uri": "https://localhost:8080/",
          "height": 564
        },
        "id": "BXfUKUIwLKdh",
        "outputId": "660aa6d5-779a-43c9-8b3c-45393d055044"
      },
      "outputs": [
        {
          "data": {
            "image/png": "[encoded data removed]",
            "text/plain": [
              "<Figure size 1000x600 with 1 Axes>"
            ]
          },
          "metadata": {},
          "output_type": "display_data"
        }
      ],
      "source": [
        "plt.figure(figsize=(10, 6))\n",
        "sns.boxplot(x='TipoEsc', y='Nota_Teste', data=df)\n",
        "plt.title('Distribuição das Notas por Tipo de Escola')\n",
        "plt.xlabel('Tipo de Escola')\n",
        "plt.ylabel('Nota do Teste')\n",
        "plt.show()"
      ]
    },
    {
      "cell_type": "markdown",
      "metadata": {
        "id": "Ig8HbqkqOlH9"
      },
      "source": [
        "# Teste T"
      ]
    },
    {
      "cell_type": "code",
      "execution_count": 11,
      "metadata": {
        "colab": {
          "base_uri": "https://localhost:8080/"
        },
        "id": "iLqy5S9x0Oga",
        "outputId": "fdad396a-7c41-44dd-81b7-126e22bbdbdf"
      },
      "outputs": [
        {
          "name": "stdout",
          "output_type": "stream",
          "text": [
            "Estatística t: 5.176808801110816\n",
            "Valor p: 2.73405134612497e-05\n",
            "Análise Descritiva:\n",
            "             mean       std  min   max  median\n",
            "TipoEsc                                       \n",
            "priv     7.781250  1.361554  3.0  10.0     8.0\n",
            "pub      4.694444  2.314525  1.5   9.0     4.5\n",
            "Análise do Teste T:\n",
            "A diferença nas médias das notas entre escolas privadas e públicas é estatisticamente significativa (p < 0.05).\n"
          ]
        }
      ],
      "source": [
        "# Teste T\n",
        "notas_priv = df[df['TipoEsc'] == 'priv']['Nota_Teste']\n",
        "notas_pub = df[df['TipoEsc'] == 'pub']['Nota_Teste']\n",
        "t_stat, p_value = ttest_ind(notas_priv, notas_pub, equal_var=False)\n",
        "\n",
        "print(f'Estatística t: {t_stat}')\n",
        "print(f'Valor p: {p_value}')\n",
        "\n",
        "# Análise dos resultados\n",
        "print(\"Análise Descritiva:\")\n",
        "print(stats)\n",
        "\n",
        "print(\"Análise do Teste T:\")\n",
        "if p_value < 0.05:\n",
        "    print(\"A diferença nas médias das notas entre escolas privadas e públicas é estatisticamente significativa (p < 0.05).\")\n",
        "else:\n",
        "    print(\"A diferença nas médias das notas entre escolas privadas e públicas não é estatisticamente significativa (p >= 0.05).\")\n"
      ]
    }
  ],
  "metadata": {
    "colab": {
      "authorship_tag": "ABX9TyN+BCJ7V/bh3eQDNS0fsPk9",
      "include_colab_link": true,
      "provenance": []
    },
    "kernelspec": {
      "display_name": "Python 3",
      "name": "python3"
    },
    "language_info": {
      "name": "python"
    }
  },
  "nbformat": 4,
  "nbformat_minor": 0
}
